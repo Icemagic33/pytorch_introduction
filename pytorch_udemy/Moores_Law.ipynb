{
 "cells": [
  {
   "cell_type": "code",
   "execution_count": 15,
   "id": "e787b87a-6d69-4b71-8194-29956118ed9e",
   "metadata": {},
   "outputs": [],
   "source": [
    "import torch \n",
    "import torch.nn as nn \n",
    "import pandas as pd\n",
    "import numpy as np\n",
    "import matplotlib.pyplot as plt"
   ]
  },
  {
   "cell_type": "code",
   "execution_count": 16,
   "id": "132b750a-7414-481d-92e5-f871dab7ada6",
   "metadata": {},
   "outputs": [],
   "source": [
    "# # Get the data\n",
    "# !wget -nc https://raw.githubusercontent.com/lazyprogrammer/machine_learning_examples/master/tf2.0/moore.csv"
   ]
  },
  {
   "cell_type": "code",
   "execution_count": 17,
   "id": "9caad825-be6b-495e-9aa3-eec13ab3ec73",
   "metadata": {},
   "outputs": [
    {
     "name": "stdout",
     "output_type": "stream",
     "text": [
      "Requirement already satisfied: requests in /opt/miniconda3/lib/python3.9/site-packages (2.31.0)\n",
      "Requirement already satisfied: charset-normalizer<4,>=2 in /opt/miniconda3/lib/python3.9/site-packages (from requests) (2.0.4)\n",
      "Requirement already satisfied: idna<4,>=2.5 in /opt/miniconda3/lib/python3.9/site-packages (from requests) (3.3)\n",
      "Requirement already satisfied: urllib3<3,>=1.21.1 in /opt/miniconda3/lib/python3.9/site-packages (from requests) (1.26.9)\n",
      "Requirement already satisfied: certifi>=2017.4.17 in /opt/miniconda3/lib/python3.9/site-packages (from requests) (2024.2.2)\n"
     ]
    }
   ],
   "source": [
    "!pip install requests"
   ]
  },
  {
   "cell_type": "code",
   "execution_count": 18,
   "id": "3108b70b-c666-432c-a216-e8b1331499fa",
   "metadata": {},
   "outputs": [],
   "source": [
    "import requests"
   ]
  },
  {
   "cell_type": "code",
   "execution_count": 19,
   "id": "3060a963-4287-4b1c-a26e-9e4f38680235",
   "metadata": {},
   "outputs": [],
   "source": [
    "url = \"https://raw.githubusercontent.com/lazyprogrammer/machine_learning_examples/master/tf2.0/moore.csv\"\n",
    "response = requests.get(url)\n"
   ]
  },
  {
   "cell_type": "code",
   "execution_count": 20,
   "id": "3269ef1a-588c-4a93-8858-2d3980c11b9b",
   "metadata": {},
   "outputs": [
    {
     "name": "stdout",
     "output_type": "stream",
     "text": [
      "File downloaded successfully!\n"
     ]
    }
   ],
   "source": [
    "with open(\"moore.csv\", \"wb\") as file:\n",
    "    file.write(response.content)\n",
    "\n",
    "print(\"File downloaded successfully!\")\n"
   ]
  },
  {
   "cell_type": "code",
   "execution_count": 24,
   "id": "2e00acfb-a121-4342-9f8f-4e8f5291f607",
   "metadata": {},
   "outputs": [
    {
     "name": "stdout",
     "output_type": "stream",
     "text": [
      "[[       1971        2300]\n",
      " [       1972        3500]\n",
      " [       1973        2500]\n",
      " [       1973        2500]\n",
      " [       1974        4100]\n",
      " [       1974        4500]\n",
      " [       1974        8000]\n",
      " [       1975        3510]\n",
      " [       1976        5000]\n",
      " [       1976        8500]\n",
      " [       1976        6500]\n",
      " [       1978        9000]\n",
      " [       1978       29000]\n",
      " [       1979       17500]\n",
      " [       1979       29000]\n",
      " [       1979       68000]\n",
      " [       1981       11500]\n",
      " [       1982       55000]\n",
      " [       1982      134000]\n",
      " [       1983       22000]\n",
      " [       1984       63000]\n",
      " [       1984      190000]\n",
      " [       1985      275000]\n",
      " [       1985       25000]\n",
      " [       1985       16000]\n",
      " [       1986      110000]\n",
      " [       1986      375000]\n",
      " [       1986       30000]\n",
      " [       1987      385000]\n",
      " [       1987      730000]\n",
      " [       1987      273000]\n",
      " [       1987      553000]\n",
      " [       1988      180000]\n",
      " [       1988      250000]\n",
      " [       1989      600000]\n",
      " [       1989     1000000]\n",
      " [       1989     1180235]\n",
      " [       1989      310000]\n",
      " [       1990     1200000]\n",
      " [       1991     1350000]\n",
      " [       1991       35000]\n",
      " [       1992      600000]\n",
      " [       1992      900000]\n",
      " [       1993     2800000]\n",
      " [       1993     3100000]\n",
      " [       1994      578977]\n",
      " [       1994     2500000]\n",
      " [       1995     2500000]\n",
      " [       1999      111000]\n",
      " [       1995     5500000]\n",
      " [       1996     4300000]\n",
      " [       1997    10000000]\n",
      " [       1997     7500000]\n",
      " [       1997     8800000]\n",
      " [       1998     7500000]\n",
      " [       1999     9500000]\n",
      " [       1999    13500000]\n",
      " [       2000    21000000]\n",
      " [       2000    21000000]\n",
      " [       1999    27400000]\n",
      " [       1999    21300000]\n",
      " [       1999    22000000]\n",
      " [       2000    42000000]\n",
      " [       2001   191000000]\n",
      " [       2001    45000000]\n",
      " [       2002    55000000]\n",
      " [       2004   112000000]\n",
      " [       2004   400000000]\n",
      " [       2005   169000000]\n",
      " [       2006   184000000]\n",
      " [       2005   228000000]\n",
      " [       2006   362000000]\n",
      " [       2007   540000000]\n",
      " [       2008    47000000]\n",
      " [       2003    54300000]\n",
      " [       2003   105900000]\n",
      " [       2002   220000000]\n",
      " [       2005   165000000]\n",
      " [       2005   250000000]\n",
      " [       2006   291000000]\n",
      " [       2007   169000000]\n",
      " [       2003   410000000]\n",
      " [       2008   600000000]\n",
      " [       2009   760000000]\n",
      " [       2011  1870000000]\n",
      " [       2012   432000000]\n",
      " [       2007   463000000]\n",
      " [       2007    26000000]\n",
      " [       2008   230000000]\n",
      " [       2004   592000000]\n",
      " [       2007   411000000]\n",
      " [       2008   731000000]\n",
      " [       2008   758000000]\n",
      " [       2007   789000000]\n",
      " [       2009   904000000]\n",
      " [       2010  1000000000]\n",
      " [       2012  2990000000]\n",
      " [       2013  1000000000]\n",
      " [       2011  1160000000]\n",
      " [       2010  1170000000]\n",
      " [       2010  1200000000]\n",
      " [       2012  1200000000]\n",
      " [       2012  1303000000]\n",
      " [       2010  1400000000]\n",
      " [       2012  1400000000]\n",
      " [       2014  1400000000]\n",
      " [       2006  1700000000]\n",
      " [       2015  1750000000]\n",
      " [       2013  1860000000]\n",
      " [       2015  1900000000]\n",
      " [       2008  1900000000]\n",
      " [       2010  2000000000]\n",
      " [       2014  2000000000]\n",
      " [       2015  2000000000]\n",
      " [       2015  3000000000]\n",
      " [       2012  2100000000]\n",
      " [       2011  2270000000]\n",
      " [       2010  2300000000]\n",
      " [       2014  2600000000]\n",
      " [       2011  2600000000]\n",
      " [       2012  2750000000]\n",
      " [       2014  3000000000]\n",
      " [       2016  3000000000]\n",
      " [       2017  5300000000]\n",
      " [       2017  5300000000]\n",
      " [       2018  8500000000]\n",
      " [       2012  3100000000]\n",
      " [       2016  3200000000]\n",
      " [       2016  3300000000]\n",
      " [       2015  3990000000]\n",
      " [       2013  4200000000]\n",
      " [       2017  4300000000]\n",
      " [       2014  4310000000]\n",
      " [       2017  4800000000]\n",
      " [       2017  4800000000]\n",
      " [       2017  4800000000]\n",
      " [       2012  5000000000]\n",
      " [       2013  5000000000]\n",
      " [       2014  5560000000]\n",
      " [       2017  6100000000]\n",
      " [       2018  6900000000]\n",
      " [       2016  4000000000]\n",
      " [       2018  6900000000]\n",
      " [       2017  5500000000]\n",
      " [       2018  5500000000]\n",
      " [       2017  7000000000]\n",
      " [       2015  7100000000]\n",
      " [       2017  8000000000]\n",
      " [       2016  7200000000]\n",
      " [       2017  8000000000]\n",
      " [       2016  8000000000]\n",
      " [       2017  9700000000]\n",
      " [       2017   250000000]\n",
      " [       2015 10000000000]\n",
      " [       2017  5450000000]\n",
      " [       2018 10000000000]\n",
      " [       2017  4300000000]\n",
      " [       2017 18000000000]\n",
      " [       2017 19200000000]\n",
      " [       2018  8876000000]\n",
      " [       2018 23600000000]\n",
      " [       2018  9000000000]]\n"
     ]
    }
   ],
   "source": [
    "# Load in the data\n",
    "data = pd.read_csv('moore.csv', header=None).values\n",
    "print(data)\n",
    "X = data[:,0].reshape(-1, 1) # make it a 2-D array of size N x D where D = 1\n",
    "Y = data[:,1].reshape(-1, 1)"
   ]
  },
  {
   "cell_type": "code",
   "execution_count": null,
   "id": "c38ec1da-e27f-4341-852c-b615f604cdc7",
   "metadata": {},
   "outputs": [],
   "source": []
  }
 ],
 "metadata": {
  "kernelspec": {
   "display_name": "Python 3 (ipykernel)",
   "language": "python",
   "name": "python3"
  },
  "language_info": {
   "codemirror_mode": {
    "name": "ipython",
    "version": 3
   },
   "file_extension": ".py",
   "mimetype": "text/x-python",
   "name": "python",
   "nbconvert_exporter": "python",
   "pygments_lexer": "ipython3",
   "version": "3.9.12"
  }
 },
 "nbformat": 4,
 "nbformat_minor": 5
}
