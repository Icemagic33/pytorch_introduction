{
 "cells": [
  {
   "cell_type": "code",
   "execution_count": 1,
   "id": "47842413-7a00-4a06-a933-f85dbb031edb",
   "metadata": {},
   "outputs": [],
   "source": [
    "import torch \n",
    "import torch.nn as nn\n",
    "import numpy as np\n",
    "import matplotlib.pyplot as plt"
   ]
  },
  {
   "cell_type": "code",
   "execution_count": 2,
   "id": "d5170f10-b294-475a-82e3-87e181e690f1",
   "metadata": {},
   "outputs": [],
   "source": [
    "# Generate 50 data points \n",
    "N = 50\n",
    "\n",
    "# random data on the x-axis in (-5, +5) \n",
    "X = np.random.random(N)*10 - 5\n",
    "\n",
    "# a line plus some noise \n",
    "Y = 0.5 * X - 1 + np.random.randn(N) "
   ]
  },
  {
   "cell_type": "code",
   "execution_count": null,
   "id": "41a8875a-2996-41e1-99a1-94ecf7ffe452",
   "metadata": {},
   "outputs": [],
   "source": []
  }
 ],
 "metadata": {
  "kernelspec": {
   "display_name": "Python 3 (ipykernel)",
   "language": "python",
   "name": "python3"
  },
  "language_info": {
   "codemirror_mode": {
    "name": "ipython",
    "version": 3
   },
   "file_extension": ".py",
   "mimetype": "text/x-python",
   "name": "python",
   "nbconvert_exporter": "python",
   "pygments_lexer": "ipython3",
   "version": "3.9.12"
  }
 },
 "nbformat": 4,
 "nbformat_minor": 5
}
