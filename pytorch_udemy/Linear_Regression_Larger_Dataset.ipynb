{
 "cells": [
  {
   "cell_type": "code",
   "execution_count": 131,
   "id": "f47fd7ba-7ef6-44ff-9cb3-390d5d240e67",
   "metadata": {},
   "outputs": [],
   "source": [
    "import torch \n",
    "import torch.nn as nn\n",
    "import numpy as np\n",
    "import matplotlib.pyplot as plt"
   ]
  },
  {
   "cell_type": "code",
   "execution_count": 132,
   "id": "118fd7ac-8c21-4b70-8946-e0ecb66c44c5",
   "metadata": {},
   "outputs": [
    {
     "data": {
      "text/plain": [
       "(tensor([[-3.1207, -2.7336,  3.9392,  ...,  0.6381,  4.4742, -1.2886],\n",
       "         [ 4.4939, -0.7954, -2.5888,  ..., -4.0913, -1.0967,  0.1040],\n",
       "         [ 4.4975,  0.5831,  1.7474,  ..., -0.2351,  3.1695,  0.5005],\n",
       "         ...,\n",
       "         [-1.5761, -2.6118,  2.4357,  ..., -0.5122, -1.4321, -0.4024],\n",
       "         [-3.6857,  3.8802, -2.9170,  ...,  3.4709,  4.5072, -1.5175],\n",
       "         [ 3.9784, -0.8563,  1.5981,  ...,  3.7030, -4.7039,  4.5885]]),\n",
       " tensor([[-2.4286],\n",
       "         [-2.5014],\n",
       "         [ 1.8440],\n",
       "         [-1.5232],\n",
       "         [-4.5321],\n",
       "         [ 0.4759],\n",
       "         [-4.9508],\n",
       "         [-0.5929],\n",
       "         [ 2.0881],\n",
       "         [-2.3376],\n",
       "         [-1.6573],\n",
       "         [-1.6893],\n",
       "         [ 0.9926],\n",
       "         [-1.5002],\n",
       "         [-0.9744],\n",
       "         [ 1.5003],\n",
       "         [-3.2081],\n",
       "         [ 1.4214],\n",
       "         [ 4.6137],\n",
       "         [ 2.5667],\n",
       "         [ 2.2124],\n",
       "         [ 2.7881],\n",
       "         [ 3.2552],\n",
       "         [ 4.3621],\n",
       "         [-3.9332],\n",
       "         [-3.8839],\n",
       "         [-0.1723],\n",
       "         [ 2.1480],\n",
       "         [-0.6888],\n",
       "         [ 1.8132],\n",
       "         [-3.6738],\n",
       "         [ 0.7518],\n",
       "         [ 3.9379],\n",
       "         [ 3.8944],\n",
       "         [-0.9063],\n",
       "         [-3.1427],\n",
       "         [-4.6205],\n",
       "         [ 3.0954],\n",
       "         [ 4.2986],\n",
       "         [-0.7988],\n",
       "         [ 2.9341],\n",
       "         [ 0.1329],\n",
       "         [-3.1388],\n",
       "         [-1.4501],\n",
       "         [-2.2049],\n",
       "         [ 2.0997],\n",
       "         [ 1.5424],\n",
       "         [-4.4056],\n",
       "         [ 4.2459],\n",
       "         [ 1.4364]]))"
      ]
     },
     "execution_count": 132,
     "metadata": {},
     "output_type": "execute_result"
    }
   ],
   "source": [
    "N = 50\n",
    "X = torch.rand(N, 128) * 10 - 5\n",
    "Y = torch.rand(N, 1) * 10 - 5\n",
    "\n",
    "X, Y"
   ]
  },
  {
   "cell_type": "code",
   "execution_count": 133,
   "id": "7ae2646c-47cc-4d5a-8e5b-20b56f6246f0",
   "metadata": {},
   "outputs": [
    {
     "data": {
      "text/plain": [
       "Linear(in_features=1, out_features=50, bias=True)"
      ]
     },
     "execution_count": 133,
     "metadata": {},
     "output_type": "execute_result"
    }
   ],
   "source": [
    "model = nn.Linear(1, N)\n",
    "model"
   ]
  },
  {
   "cell_type": "code",
   "execution_count": 134,
   "id": "f665ce98-234b-4471-9a3c-9fb77260b866",
   "metadata": {},
   "outputs": [],
   "source": [
    "criterion = nn.MSELoss()\n",
    "optimizer = torch.optim.SGD(model.parameters(), lr=0.1)"
   ]
  },
  {
   "cell_type": "code",
   "execution_count": 135,
   "id": "6e3a14f3-8da8-40de-a1e5-9cfd0b2213a9",
   "metadata": {},
   "outputs": [],
   "source": [
    "X = X.reshape(N, 128)\n",
    "Y = Y.reshape(N, 1)"
   ]
  },
  {
   "cell_type": "code",
   "execution_count": 136,
   "id": "afae85b6-0931-4e0d-821f-035ce4a8c0e4",
   "metadata": {},
   "outputs": [],
   "source": [
    "# inputs = torch.from_numpy(X.astype(np.float32))\n",
    "# targets = torch.from_numpy(Y.astype(np.float32))"
   ]
  },
  {
   "cell_type": "code",
   "execution_count": 137,
   "id": "0e54aa6e-1c88-4a62-86a7-ffffa0e6b016",
   "metadata": {},
   "outputs": [
    {
     "data": {
      "text/plain": [
       "torch.Tensor"
      ]
     },
     "execution_count": 137,
     "metadata": {},
     "output_type": "execute_result"
    }
   ],
   "source": [
    "type(X)"
   ]
  },
  {
   "cell_type": "code",
   "execution_count": 138,
   "id": "c01aa3ae-939c-4825-bc0d-9d3f31515cf1",
   "metadata": {},
   "outputs": [
    {
     "data": {
      "text/plain": [
       "(torch.Size([50, 128]), torch.Size([50, 1]))"
      ]
     },
     "execution_count": 138,
     "metadata": {},
     "output_type": "execute_result"
    }
   ],
   "source": [
    "X.size(), Y.size()"
   ]
  },
  {
   "cell_type": "code",
   "execution_count": 139,
   "id": "a77a0ac8-fb65-4e77-b832-d8b5f10950dc",
   "metadata": {},
   "outputs": [],
   "source": [
    "X = torch.t(X)\n",
    "Y = torch.t(Y)"
   ]
  },
  {
   "cell_type": "code",
   "execution_count": 140,
   "id": "b0df581d-6ce3-4ec3-896e-dc32ad98f7cc",
   "metadata": {},
   "outputs": [
    {
     "data": {
      "text/plain": [
       "(torch.Size([128, 50]), torch.Size([1, 50]))"
      ]
     },
     "execution_count": 140,
     "metadata": {},
     "output_type": "execute_result"
    }
   ],
   "source": [
    "X.size(), Y.size()"
   ]
  },
  {
   "cell_type": "code",
   "execution_count": 141,
   "id": "b63a479c-d4f7-4e96-a467-42c71545ab00",
   "metadata": {},
   "outputs": [
    {
     "ename": "RuntimeError",
     "evalue": "mat1 and mat2 shapes cannot be multiplied (128x50 and 1x50)",
     "output_type": "error",
     "traceback": [
      "\u001b[0;31m---------------------------------------------------------------------------\u001b[0m",
      "\u001b[0;31mRuntimeError\u001b[0m                              Traceback (most recent call last)",
      "Cell \u001b[0;32mIn[141], line 9\u001b[0m\n\u001b[1;32m      6\u001b[0m optimizer\u001b[38;5;241m.\u001b[39mzero_grad()\n\u001b[1;32m      8\u001b[0m \u001b[38;5;66;03m# forward pass \u001b[39;00m\n\u001b[0;32m----> 9\u001b[0m outputs \u001b[38;5;241m=\u001b[39m \u001b[43mmodel\u001b[49m\u001b[43m(\u001b[49m\u001b[43mX\u001b[49m\u001b[43m)\u001b[49m\n\u001b[1;32m     10\u001b[0m loss \u001b[38;5;241m=\u001b[39m criterion(outputs, Y)\n\u001b[1;32m     12\u001b[0m \u001b[38;5;66;03m# keep the loss so we can plot it later \u001b[39;00m\n",
      "File \u001b[0;32m~/.local/lib/python3.9/site-packages/torch/nn/modules/module.py:1532\u001b[0m, in \u001b[0;36mModule._wrapped_call_impl\u001b[0;34m(self, *args, **kwargs)\u001b[0m\n\u001b[1;32m   1530\u001b[0m     \u001b[38;5;28;01mreturn\u001b[39;00m \u001b[38;5;28mself\u001b[39m\u001b[38;5;241m.\u001b[39m_compiled_call_impl(\u001b[38;5;241m*\u001b[39margs, \u001b[38;5;241m*\u001b[39m\u001b[38;5;241m*\u001b[39mkwargs)  \u001b[38;5;66;03m# type: ignore[misc]\u001b[39;00m\n\u001b[1;32m   1531\u001b[0m \u001b[38;5;28;01melse\u001b[39;00m:\n\u001b[0;32m-> 1532\u001b[0m     \u001b[38;5;28;01mreturn\u001b[39;00m \u001b[38;5;28;43mself\u001b[39;49m\u001b[38;5;241;43m.\u001b[39;49m\u001b[43m_call_impl\u001b[49m\u001b[43m(\u001b[49m\u001b[38;5;241;43m*\u001b[39;49m\u001b[43margs\u001b[49m\u001b[43m,\u001b[49m\u001b[43m \u001b[49m\u001b[38;5;241;43m*\u001b[39;49m\u001b[38;5;241;43m*\u001b[39;49m\u001b[43mkwargs\u001b[49m\u001b[43m)\u001b[49m\n",
      "File \u001b[0;32m~/.local/lib/python3.9/site-packages/torch/nn/modules/module.py:1541\u001b[0m, in \u001b[0;36mModule._call_impl\u001b[0;34m(self, *args, **kwargs)\u001b[0m\n\u001b[1;32m   1536\u001b[0m \u001b[38;5;66;03m# If we don't have any hooks, we want to skip the rest of the logic in\u001b[39;00m\n\u001b[1;32m   1537\u001b[0m \u001b[38;5;66;03m# this function, and just call forward.\u001b[39;00m\n\u001b[1;32m   1538\u001b[0m \u001b[38;5;28;01mif\u001b[39;00m \u001b[38;5;129;01mnot\u001b[39;00m (\u001b[38;5;28mself\u001b[39m\u001b[38;5;241m.\u001b[39m_backward_hooks \u001b[38;5;129;01mor\u001b[39;00m \u001b[38;5;28mself\u001b[39m\u001b[38;5;241m.\u001b[39m_backward_pre_hooks \u001b[38;5;129;01mor\u001b[39;00m \u001b[38;5;28mself\u001b[39m\u001b[38;5;241m.\u001b[39m_forward_hooks \u001b[38;5;129;01mor\u001b[39;00m \u001b[38;5;28mself\u001b[39m\u001b[38;5;241m.\u001b[39m_forward_pre_hooks\n\u001b[1;32m   1539\u001b[0m         \u001b[38;5;129;01mor\u001b[39;00m _global_backward_pre_hooks \u001b[38;5;129;01mor\u001b[39;00m _global_backward_hooks\n\u001b[1;32m   1540\u001b[0m         \u001b[38;5;129;01mor\u001b[39;00m _global_forward_hooks \u001b[38;5;129;01mor\u001b[39;00m _global_forward_pre_hooks):\n\u001b[0;32m-> 1541\u001b[0m     \u001b[38;5;28;01mreturn\u001b[39;00m \u001b[43mforward_call\u001b[49m\u001b[43m(\u001b[49m\u001b[38;5;241;43m*\u001b[39;49m\u001b[43margs\u001b[49m\u001b[43m,\u001b[49m\u001b[43m \u001b[49m\u001b[38;5;241;43m*\u001b[39;49m\u001b[38;5;241;43m*\u001b[39;49m\u001b[43mkwargs\u001b[49m\u001b[43m)\u001b[49m\n\u001b[1;32m   1543\u001b[0m \u001b[38;5;28;01mtry\u001b[39;00m:\n\u001b[1;32m   1544\u001b[0m     result \u001b[38;5;241m=\u001b[39m \u001b[38;5;28;01mNone\u001b[39;00m\n",
      "File \u001b[0;32m~/.local/lib/python3.9/site-packages/torch/nn/modules/linear.py:116\u001b[0m, in \u001b[0;36mLinear.forward\u001b[0;34m(self, input)\u001b[0m\n\u001b[1;32m    115\u001b[0m \u001b[38;5;28;01mdef\u001b[39;00m \u001b[38;5;21mforward\u001b[39m(\u001b[38;5;28mself\u001b[39m, \u001b[38;5;28minput\u001b[39m: Tensor) \u001b[38;5;241m-\u001b[39m\u001b[38;5;241m>\u001b[39m Tensor:\n\u001b[0;32m--> 116\u001b[0m     \u001b[38;5;28;01mreturn\u001b[39;00m \u001b[43mF\u001b[49m\u001b[38;5;241;43m.\u001b[39;49m\u001b[43mlinear\u001b[49m\u001b[43m(\u001b[49m\u001b[38;5;28;43minput\u001b[39;49m\u001b[43m,\u001b[49m\u001b[43m \u001b[49m\u001b[38;5;28;43mself\u001b[39;49m\u001b[38;5;241;43m.\u001b[39;49m\u001b[43mweight\u001b[49m\u001b[43m,\u001b[49m\u001b[43m \u001b[49m\u001b[38;5;28;43mself\u001b[39;49m\u001b[38;5;241;43m.\u001b[39;49m\u001b[43mbias\u001b[49m\u001b[43m)\u001b[49m\n",
      "\u001b[0;31mRuntimeError\u001b[0m: mat1 and mat2 shapes cannot be multiplied (128x50 and 1x50)"
     ]
    }
   ],
   "source": [
    "# Train the model \n",
    "n_epochs = 20 # need to try out different numbers and choose the best \n",
    "losses = []\n",
    "for it in range(n_epochs):\n",
    "    # zero the parameter gradients\n",
    "    optimizer.zero_grad()\n",
    "\n",
    "    # forward pass \n",
    "    outputs = model(X)\n",
    "    loss = criterion(outputs, Y)\n",
    "\n",
    "    # keep the loss so we can plot it later \n",
    "    losses.append(loss.item()) # Tensor is a single number -> Python land : use .item()\n",
    "\n",
    "    # backwawrd and optimize\n",
    "    loss.backward() # calculate the gradient\n",
    "    optimizer.step() # single step of gradient descent\n",
    "\n",
    "    print(f'Epoch {it+1}/{n_epochs}, Loss: {loss.item():.4f}')"
   ]
  },
  {
   "cell_type": "code",
   "execution_count": null,
   "id": "edf13377-381f-4ab9-a014-3c31639d8f06",
   "metadata": {},
   "outputs": [],
   "source": []
  }
 ],
 "metadata": {
  "kernelspec": {
   "display_name": "Python 3 (ipykernel)",
   "language": "python",
   "name": "python3"
  },
  "language_info": {
   "codemirror_mode": {
    "name": "ipython",
    "version": 3
   },
   "file_extension": ".py",
   "mimetype": "text/x-python",
   "name": "python",
   "nbconvert_exporter": "python",
   "pygments_lexer": "ipython3",
   "version": "3.9.12"
  }
 },
 "nbformat": 4,
 "nbformat_minor": 5
}
