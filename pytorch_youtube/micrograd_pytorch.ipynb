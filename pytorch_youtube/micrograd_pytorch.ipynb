{
 "cells": [
  {
   "cell_type": "code",
   "execution_count": 14,
   "id": "a17fb7ae-7c81-45c4-809f-f0fcea7a1102",
   "metadata": {},
   "outputs": [],
   "source": [
    "import math \n",
    "import random\n",
    "import numpy as np \n",
    "import matplotlib.pyplot as plt \n",
    "%matplotlib inline"
   ]
  },
  {
   "cell_type": "code",
   "execution_count": 15,
   "id": "47b78aac-1c0c-423f-b329-eee6b51a3706",
   "metadata": {},
   "outputs": [],
   "source": [
    "# From micrograd \n",
    "class Value:\n",
    "\n",
    "    def __init__(self, data, _children=(), _op='', label=''):\n",
    "        self.data = data\n",
    "        self.grad = 0.0\n",
    "        self._backward = lambda: None\n",
    "        # _children keeps a set of values used to create the new Value object\n",
    "        self._prev = set(_children)\n",
    "        # _opt keeps information on which operation was used \n",
    "        self._op = _op\n",
    "        self.label = label\n",
    "\n",
    "    # Define how we wnat to print out our Value objects \n",
    "    def __repr__(self):\n",
    "        return f\"Value(data={self.data})\"\n",
    "\n",
    "    def __add__(self, other):\n",
    "        # allow addition with integers (not only Value objects)\n",
    "        other = other if isinstance(other, Value) else Value(other)\n",
    "        \n",
    "        # return a new value object with the added value. \n",
    "        out = Value(self.data + other.data, (self, other), '+')\n",
    "        # Since data is a Python number, not a Value object, we can use a typical floating point addition.  \n",
    "        \n",
    "        def _backward(): # same as out.grad\n",
    "            self.grad += 1.0 * out.grad\n",
    "            other.grad += 1.0 * out.grad\n",
    "        out._backward = _backward\n",
    "\n",
    "        return out\n",
    "\n",
    "    def __radd__(self, other):\n",
    "        return self + other\n",
    "        \n",
    "\n",
    "    def __mul__(self, other):\n",
    "        other = other if isinstance(other, Value) else Value(other)\n",
    "        out = Value(self.data * other.data, (self, other), '*')\n",
    "\n",
    "        def _backward():  # use chain rule\n",
    "            self.grad += other.data * out.grad\n",
    "            other.grad += self.data * out.grad \n",
    "        out._backward = _backward\n",
    "\n",
    "        return out\n",
    "    \n",
    "    def __rmul__(self, other): # other * self\n",
    "        return self * other\n",
    "\n",
    "    def __pow__(self, other):\n",
    "        assert isinstance(other, (int, float)), \"only supporting int/float powers for now\"\n",
    "        out = Value(self.data**other, (self,), f'**{other}')\n",
    "        \n",
    "        def _backward():\n",
    "            self.grad += (other * self.data**(other-1)) * out.grad\n",
    "        out._backward = _backward\n",
    "        \n",
    "        return out\n",
    "\n",
    "        \n",
    "    def __neg__(self): # -self\n",
    "        return self * -1\n",
    "\n",
    "    def __sub__(self, other): # self - other\n",
    "        return self + (-other)\n",
    "\n",
    "    def __rsub__(self, other): # other - self\n",
    "        return other + (-self)\n",
    "\n",
    "    def __truediv__(self, other): # self / other\n",
    "        return self * other**-1\n",
    "\n",
    "    def __rtruediv__(self, other): # other / self\n",
    "        return other * self**-1\n",
    "\n",
    "    \n",
    "    # Used for tanh - activation function \n",
    "    def tanh(self):\n",
    "        x = self.data\n",
    "        t = (math.exp(2*x) - 1)/(math.exp(2*x) + 1)\n",
    "        out = Value(t, (self, ), 'tanh')\n",
    "\n",
    "        def _backward(): # derivative of tanh is 1-tanh^2\n",
    "            self.grad += (1 - t**2) * out.grad\n",
    "        out._backward = _backward\n",
    "\n",
    "        return out\n",
    "\n",
    "    def exp(self):\n",
    "        x = self.data \n",
    "        out = Value(math.exp(x), (self, ), 'exp')\n",
    "\n",
    "        def _backward():\n",
    "            self.grad = out.data * out.grad\n",
    "        out._backward = _backward\n",
    "    \n",
    "        return out\n",
    "        \n",
    "    def backward(self):\n",
    "\n",
    "        # topological order all of the children in the graph\n",
    "        topo = []\n",
    "        visited = set()\n",
    "        def build_topo(v):\n",
    "            if v not in visited:\n",
    "                visited.add(v)\n",
    "                for child in v._prev:\n",
    "                    build_topo(child)\n",
    "                topo.append(v)\n",
    "        build_topo(self)\n",
    "\n",
    "        # go one variable at a time and apply the chain rule to get its gradient\n",
    "        self.grad = 1\n",
    "        for v in reversed(topo):\n",
    "            v._backward()"
   ]
  },
  {
   "cell_type": "code",
   "execution_count": 16,
   "id": "e2ae8617-b249-42ba-a566-aa291fa945a8",
   "metadata": {},
   "outputs": [],
   "source": [
    "import torch "
   ]
  },
  {
   "cell_type": "code",
   "execution_count": 17,
   "id": "99289324-bd61-4b94-a623-44fe8e48027f",
   "metadata": {},
   "outputs": [
    {
     "name": "stdout",
     "output_type": "stream",
     "text": [
      "0.7071066904050358\n",
      "---\n",
      "x2 0.5000001283844369\n",
      "w2 0.0\n",
      "x1 -1.5000003851533106\n",
      "w1 1.0000002567688737\n"
     ]
    }
   ],
   "source": [
    "# Define the input tensors and set requires_grad to True to compute gradients\n",
    "x1 = torch.Tensor([2.0]).double();                 x1.requires_grad = True\n",
    "x2 = torch.Tensor([0.0]).double();                 x2.requires_grad = True\n",
    "w1 = torch.Tensor([-3.0]).double();                w1.requires_grad = True\n",
    "w2 = torch.Tensor([1.0]).double();                 w2.requires_grad = True\n",
    "b = torch.Tensor([6.8813735870195432]).double();   b.requires_grad = True\n",
    "# Since thees are leaf nodes, by default, PyTorch assumes they do not need gradients. \n",
    "# Therefore, we need to explicitly say all of the nodes require gradients.\n",
    "\n",
    "# Compute the output of the neural network\n",
    "n = x1 * w1 + x2 * w2 + b\n",
    "o = torch.tanh(n)\n",
    "\n",
    "# Print the output value\n",
    "print(o.data.item())\n",
    "\n",
    "# Compute the gradients\n",
    "o.backward()\n",
    "\n",
    "# Print the gradients\n",
    "print('---')\n",
    "print('x2', x2.grad.item())\n",
    "print('w2', w2.grad.item())\n",
    "print('x1', x1.grad.item())\n",
    "print('w1', w1.grad.item())\n"
   ]
  },
  {
   "cell_type": "code",
   "execution_count": 18,
   "id": "5b508ba1-672c-47cd-a6b6-ed26eaa2ad4a",
   "metadata": {},
   "outputs": [
    {
     "data": {
      "text/plain": [
       "tensor([0.7071], dtype=torch.float64, grad_fn=<TanhBackward0>)"
      ]
     },
     "execution_count": 18,
     "metadata": {},
     "output_type": "execute_result"
    }
   ],
   "source": [
    "o # It is a tensor element and it has the backward funciton!"
   ]
  },
  {
   "cell_type": "code",
   "execution_count": 19,
   "id": "729e0b84-ba55-4d4d-875f-0fe44453bf32",
   "metadata": {},
   "outputs": [
    {
     "data": {
      "text/plain": [
       "0.7071066904050358"
      ]
     },
     "execution_count": 19,
     "metadata": {},
     "output_type": "execute_result"
    }
   ],
   "source": [
    "o.item() # o.item() and o.data.item() will produce the same result in PyTorch"
   ]
  },
  {
   "cell_type": "code",
   "execution_count": 40,
   "id": "6fbdc4b5-61bb-41c0-a3f0-8e486ad3e11e",
   "metadata": {},
   "outputs": [
    {
     "data": {
      "text/plain": [
       "[Value(data=-0.9890202514436153),\n",
       " Value(data=0.8081731398842702),\n",
       " Value(data=-0.9931377527054055)]"
      ]
     },
     "execution_count": 40,
     "metadata": {},
     "output_type": "execute_result"
    }
   ],
   "source": [
    "class Neuron:\n",
    "    def __init__(self, nin):\n",
    "        self.w = [Value(random.uniform(-1,1)) for _ in range(nin)]\n",
    "        self.b = Value(random.uniform(-1,1))\n",
    "\n",
    "    def __call__(self, x):\n",
    "        # w * x + b\n",
    "        # print(list(zip(self.w, x))) # check what zip does\n",
    "        act = sum((wi*xi for wi, xi in zip(self.w, x)), self.b)\n",
    "        out = act.tanh()\n",
    "        return out\n",
    "\n",
    "\n",
    "class Layer:\n",
    "    def __init__(self, nin, nout):\n",
    "        self.neurons = [Neuron(nin) for _ in range(nout)]\n",
    "\n",
    "    def __call__(self, x):\n",
    "        outs = [n(x) for n in self.neurons]\n",
    "        return outs \n",
    "\n",
    "\n",
    "x = [2.0, 3.0]\n",
    "n = Layer(2, 3)\n",
    "n(x)"
   ]
  },
  {
   "cell_type": "code",
   "execution_count": null,
   "id": "c6cac3b3-1250-4657-9a1b-f4b923be9ad3",
   "metadata": {},
   "outputs": [],
   "source": []
  },
  {
   "cell_type": "code",
   "execution_count": null,
   "id": "06e86876-b553-4a1c-963f-76874527cbfc",
   "metadata": {},
   "outputs": [],
   "source": []
  }
 ],
 "metadata": {
  "kernelspec": {
   "display_name": "Python 3 (ipykernel)",
   "language": "python",
   "name": "python3"
  },
  "language_info": {
   "codemirror_mode": {
    "name": "ipython",
    "version": 3
   },
   "file_extension": ".py",
   "mimetype": "text/x-python",
   "name": "python",
   "nbconvert_exporter": "python",
   "pygments_lexer": "ipython3",
   "version": "3.9.12"
  }
 },
 "nbformat": 4,
 "nbformat_minor": 5
}
