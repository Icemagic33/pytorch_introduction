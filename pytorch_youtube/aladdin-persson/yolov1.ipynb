{
 "cells": [
  {
   "cell_type": "markdown",
   "id": "b7a7ddf3-109c-4d9d-9f31-df02bcc57e81",
   "metadata": {},
   "source": [
    "# YOLO v1\n",
    "\n",
    "## Introduction \n",
    "Each ouput and label will be relative to the cell\n",
    "\n",
    "Each bounding box for each cell will have: [x, y, w, h]\n",
    "\n",
    "x, y are between 0 to 1 (boudning boxes have top left corner (0,0) and bottom right corner (1,1))\n",
    "\n",
    "w, h can be greater than 1 if the object is wider or taller than the cell\n",
    "\n",
    "How labels will actually look: label_cell = [c_1, c_2, ... , c_20, p_c, x, y, w, h]\n",
    "\n",
    "-> for 20 different classes., \n",
    "\n",
    "-> p_c: Probability that there is an object (1 to 0) \n",
    "\n",
    "-> x, y, w, h: boudning box coordinates\n",
    "\n",
    "Predicitons will look very similar, but we will output two bounding boxes\n",
    "\n",
    "Idea: They will specialize to output different bounding boxes (wide vs tall) \n",
    "\n",
    "How predictions will actually look: pred_cell = [c_1, c_2, ... , c_20, p_c, x, y, w, h ,p_c2, x, y, w, h]\n",
    "\n",
    "-> for 20 different classes \n",
    "\n",
    "-> p_c1, p_c2: probability that there is an object\n",
    "\n",
    "-> **limitation**: A cell can only detect ONE object\n",
    "\n",
    "\n",
    "Remember this is for every cell!\n",
    "- Target shape for one image: (S, S, 25)\n",
    "- Prediction shape for one image: (S, S, 30)"
   ]
  },
  {
   "cell_type": "markdown",
   "id": "43e9a37f-86a9-4ff6-a18b-7d3829403f91",
   "metadata": {},
   "source": [
    "For further information:\n",
    "\n",
    "**You Only Look Once: Unified, Real-Time Object Detection** by Joseph Redmon et al. "
   ]
  },
  {
   "cell_type": "code",
   "execution_count": 2,
   "id": "cd6f4aab-f2df-486f-895e-cd6a74e96eb4",
   "metadata": {},
   "outputs": [],
   "source": [
    "import torch \n",
    "import torch.nn as nn"
   ]
  },
  {
   "cell_type": "code",
   "execution_count": 4,
   "id": "b7016f47-1cbb-4a5c-92b5-4bc7efde7db6",
   "metadata": {},
   "outputs": [
    {
     "ename": "SyntaxError",
     "evalue": "invalid syntax (3035348815.py, line 3)",
     "output_type": "error",
     "traceback": [
      "\u001b[0;36m  Cell \u001b[0;32mIn[4], line 3\u001b[0;36m\u001b[0m\n\u001b[0;31m    self.c1 = nn.Conv2d(in_channels=, out_channels=, kernel_size=7, strid=2, padding=)\u001b[0m\n\u001b[0m                                    ^\u001b[0m\n\u001b[0;31mSyntaxError\u001b[0m\u001b[0;31m:\u001b[0m invalid syntax\n"
     ]
    }
   ],
   "source": [
    "class YOLO(nn.Module):\n",
    "    super(YOLO, self).__init__()\n",
    "    self.c1 = nn.Conv2d(in_channels=, out_channels=, kernel_size=7, strid=2, padding=)\n",
    "    self.m1 = nn.MaxPool2d("
   ]
  },
  {
   "cell_type": "code",
   "execution_count": null,
   "id": "31d2a736-ab93-4189-94c4-8a5ede572e9e",
   "metadata": {},
   "outputs": [],
   "source": []
  }
 ],
 "metadata": {
  "kernelspec": {
   "display_name": "Python 3 (ipykernel)",
   "language": "python",
   "name": "python3"
  },
  "language_info": {
   "codemirror_mode": {
    "name": "ipython",
    "version": 3
   },
   "file_extension": ".py",
   "mimetype": "text/x-python",
   "name": "python",
   "nbconvert_exporter": "python",
   "pygments_lexer": "ipython3",
   "version": "3.9.12"
  }
 },
 "nbformat": 4,
 "nbformat_minor": 5
}
