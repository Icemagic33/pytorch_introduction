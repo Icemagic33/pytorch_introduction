{
 "cells": [
  {
   "cell_type": "code",
   "execution_count": 40,
   "id": "4c27a033-c77a-44ce-9a56-c4bf9dc06305",
   "metadata": {},
   "outputs": [],
   "source": [
    "words = open('names/yob2023.txt', 'r').read().splitlines()"
   ]
  },
  {
   "cell_type": "code",
   "execution_count": 41,
   "id": "dcaba67b-b83b-4ee4-8f70-5806c37f3d83",
   "metadata": {},
   "outputs": [],
   "source": [
    "# Extract only the names from each line\n",
    "words = [line.split(',')[0] for line in words]"
   ]
  },
  {
   "cell_type": "code",
   "execution_count": 42,
   "id": "7d23988b-805d-4e24-adc6-55535ef721dc",
   "metadata": {},
   "outputs": [
    {
     "data": {
      "text/plain": [
       "['Olivia',\n",
       " 'Emma',\n",
       " 'Charlotte',\n",
       " 'Amelia',\n",
       " 'Sophia',\n",
       " 'Mia',\n",
       " 'Isabella',\n",
       " 'Ava',\n",
       " 'Evelyn',\n",
       " 'Luna']"
      ]
     },
     "execution_count": 42,
     "metadata": {},
     "output_type": "execute_result"
    }
   ],
   "source": [
    "words[:10]"
   ]
  },
  {
   "cell_type": "code",
   "execution_count": 43,
   "id": "902eb42b-9ec8-4113-add6-013191c56fce",
   "metadata": {},
   "outputs": [
    {
     "data": {
      "text/plain": [
       "31682"
      ]
     },
     "execution_count": 43,
     "metadata": {},
     "output_type": "execute_result"
    }
   ],
   "source": [
    "len(words)"
   ]
  },
  {
   "cell_type": "code",
   "execution_count": 44,
   "id": "9faf2280-4f5f-48df-8c66-734a2b0ed678",
   "metadata": {},
   "outputs": [
    {
     "data": {
      "text/plain": [
       "2"
      ]
     },
     "execution_count": 44,
     "metadata": {},
     "output_type": "execute_result"
    }
   ],
   "source": [
    "min(len(w) for w in words)"
   ]
  },
  {
   "cell_type": "code",
   "execution_count": 45,
   "id": "194d949b-d4c5-4079-986a-d0e98197b28e",
   "metadata": {},
   "outputs": [
    {
     "data": {
      "text/plain": [
       "15"
      ]
     },
     "execution_count": 45,
     "metadata": {},
     "output_type": "execute_result"
    }
   ],
   "source": [
    "max(len(w) for w in words)"
   ]
  },
  {
   "cell_type": "code",
   "execution_count": 63,
   "id": "6f76b5a4-c663-423e-af62-b1210ae7cb3c",
   "metadata": {},
   "outputs": [
    {
     "name": "stdout",
     "output_type": "stream",
     "text": [
      "<S> O\n",
      "O l\n",
      "l i\n",
      "i v\n",
      "v i\n",
      "i a\n",
      "a <E>\n",
      "<S> E\n",
      "E m\n",
      "m m\n",
      "m a\n",
      "a <E>\n",
      "<S> C\n",
      "C h\n",
      "h a\n",
      "a r\n",
      "r l\n",
      "l o\n",
      "o t\n",
      "t t\n",
      "t e\n",
      "e <E>\n"
     ]
    }
   ],
   "source": [
    "b = \n",
    "\n",
    "# Bigram language model \n",
    "for w in words[:3]:\n",
    "    chs = ['<S>'] + list(w) + ['<E>'] # special Start + list(w) + special End\n",
    "    for ch1, ch2 in zip(chs, chs[1:]):\n",
    "        bigram = (ch1, ch2)\n",
    "        b[bigram] = b.get(bigram, 0) + 1 # b[bigram]\n",
    "        print(ch1, ch2)"
   ]
  },
  {
   "cell_type": "code",
   "execution_count": 64,
   "id": "4a64da67-5a65-4e1e-a0f0-d5da00aec3f1",
   "metadata": {},
   "outputs": [
    {
     "data": {
      "text/plain": [
       "[('C', 'h'),\n",
       " ('h', 'a'),\n",
       " ('a', 'r'),\n",
       " ('r', 'l'),\n",
       " ('l', 'o'),\n",
       " ('o', 't'),\n",
       " ('t', 't'),\n",
       " ('t', 'e')]"
      ]
     },
     "execution_count": 64,
     "metadata": {},
     "output_type": "execute_result"
    }
   ],
   "source": []
  },
  {
   "cell_type": "code",
   "execution_count": null,
   "id": "c36522b1-bca0-4757-bd3c-63a1fd168cbc",
   "metadata": {},
   "outputs": [],
   "source": []
  }
 ],
 "metadata": {
  "kernelspec": {
   "display_name": "Python 3 (ipykernel)",
   "language": "python",
   "name": "python3"
  },
  "language_info": {
   "codemirror_mode": {
    "name": "ipython",
    "version": 3
   },
   "file_extension": ".py",
   "mimetype": "text/x-python",
   "name": "python",
   "nbconvert_exporter": "python",
   "pygments_lexer": "ipython3",
   "version": "3.9.12"
  }
 },
 "nbformat": 4,
 "nbformat_minor": 5
}
