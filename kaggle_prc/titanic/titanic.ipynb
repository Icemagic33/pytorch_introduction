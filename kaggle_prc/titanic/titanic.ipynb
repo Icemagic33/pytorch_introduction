{
 "cells": [
  {
   "cell_type": "code",
   "execution_count": null,
   "id": "58c0d53c-acdd-4041-b55b-079ff6d4be4a",
   "metadata": {},
   "outputs": [],
   "source": []
  }
 ],
 "metadata": {
  "kernelspec": {
   "display_name": "",
   "name": ""
  },
  "language_info": {
   "name": ""
  }
 },
 "nbformat": 4,
 "nbformat_minor": 5
}
